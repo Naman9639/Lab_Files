{
 "cells": [
  {
   "cell_type": "code",
   "execution_count": 174,
   "metadata": {},
   "outputs": [
    {
     "name": "stdout",
     "output_type": "stream",
     "text": [
      "Enter the Regex :a*b|c\n"
     ]
    }
   ],
   "source": [
    "reg = str(input(\"Enter the Regex :\"))"
   ]
  },
  {
   "cell_type": "code",
   "execution_count": 175,
   "metadata": {},
   "outputs": [
    {
     "name": "stdout",
     "output_type": "stream",
     "text": [
      "['a', 'b', 'c'] ['a', 'b', 'c', 'e']\n"
     ]
    }
   ],
   "source": [
    "import string\n",
    "varlist = []\n",
    "var = list(reg)\n",
    "for i in var:\n",
    "    if i not in string.punctuation:\n",
    "        varlist.append(i)\n",
    "varliste = varlist.copy()\n",
    "varliste.append('e')\n",
    "print(varlist,varliste)"
   ]
  },
  {
   "cell_type": "code",
   "execution_count": 180,
   "metadata": {},
   "outputs": [],
   "source": [
    "i = 0\n",
    "j = 0\n",
    "f=[]\n",
    "q=[]\n",
    "base = 0\n",
    "q.append({})\n",
    "while(i<len(reg)):\n",
    "    #only symbol\n",
    "    if reg[i] in varliste :\n",
    "        if len(reg) > i+1:\n",
    "            if (not reg[i+1] == '|') and (not reg[i+1] == '*'):\n",
    "                q[j][reg[i]] = []\n",
    "                q[j][reg[i]].append(j+1)\n",
    "                j=j+1\n",
    "                if len(q) <= j:\n",
    "                    q.append({})\n",
    "        else:\n",
    "            q[j][reg[i]] = []\n",
    "            q[j][reg[i]].append(j+1)\n",
    "            j=j+1\n",
    "            if len(q) <= j:\n",
    "                q.append({})\n",
    "    #for | operator\n",
    "    if len(reg) > i+2 :\n",
    "        if reg[i] in varlist and reg[i+1] == '|' and reg[i+2] in varlist:\n",
    "            if reg[i] in q[j]:\n",
    "                q[j][reg[i]].append(j+1)\n",
    "            else:\n",
    "                q[j][reg[i]] = []\n",
    "                q[j][reg[i]].append(j+1)\n",
    "            f.append(j)\n",
    "            j=j+1\n",
    "            if len(q) <= j:\n",
    "                q.append({})\n",
    "            \n",
    "            if 'e' in q[base]:\n",
    "                q[base]['e'].append(j+1)\n",
    "            else:\n",
    "                q[base]['e'] = []\n",
    "                q[base]['e'].append(j+1)\n",
    "            \n",
    "            \n",
    "            i=i+1;\n",
    "    #For * operator\n",
    "    if len(reg) > i+1 : \n",
    "        if reg[i] in varlist and reg[i+1] == '*':\n",
    "            \n",
    "            if reg[i] in q[j]:\n",
    "                q[j][reg[i]].append(j+1)\n",
    "            else:\n",
    "                q[j][reg[i]] = []\n",
    "                q[j][reg[i]].append(j+1)\n",
    "            \n",
    "            if 'e' in q[j]:\n",
    "                q[j]['e'].append(j+1)\n",
    "            else:\n",
    "                q[j]['e'] = []\n",
    "                q[j]['e'].append(j+1)\n",
    "            \n",
    "            \n",
    "            \n",
    "            j = j+1\n",
    "            if len(q) <= j:\n",
    "                q.append({})\n",
    "            if 'e' in q[j]:\n",
    "                q[j]['e'].append(j-1)\n",
    "            else:\n",
    "                q[j]['e'] = []\n",
    "                q[j]['e'].append(j-1)\n",
    "            \n",
    "            i+=1\n",
    "            \n",
    "    i+=1\n",
    "    \n",
    "if 'e' in q[j]:\n",
    "    q[j]['e'].append(j+1)\n",
    "else:\n",
    "    q[j]['e'] = []\n",
    "    q[j]['e'].append(j+1)\n",
    "q.append({})\n",
    "j+=1\n",
    "for i in f:\n",
    "    if 'e' in q[i]:\n",
    "        q[i]['e'].append(j-1)\n",
    "    else:\n",
    "        q[i]['e'] = []\n",
    "        q[i]['e'].append(j-1)"
   ]
  },
  {
   "cell_type": "code",
   "execution_count": 181,
   "metadata": {},
   "outputs": [
    {
     "name": "stdout",
     "output_type": "stream",
     "text": [
      "[{'a': [1], 'e': [1, 3]}, {'e': [0, 3], 'b': [2]}, {'c': [3]}, {'e': [4]}, {}]\n"
     ]
    }
   ],
   "source": [
    "\n",
    "print(q)\n"
   ]
  },
  {
   "cell_type": "code",
   "execution_count": 182,
   "metadata": {},
   "outputs": [],
   "source": [
    "def variable(x,k):\n",
    "    if x in q[k].keys():\n",
    "        return q[k][x]\n",
    "    else:\n",
    "        return \"-\""
   ]
  },
  {
   "cell_type": "code",
   "execution_count": 183,
   "metadata": {},
   "outputs": [
    {
     "name": "stdout",
     "output_type": "stream",
     "text": [
      "State\t a\tb\tc\te\n",
      "0 \t [1]\t-\t-\t[1, 3]\n",
      "1 \t -\t[2]\t-\t[0, 3]\n",
      "2 \t -\t-\t[3]\t-\n",
      "3 \t -\t-\t-\t[4]\n",
      "4 \t -\t-\t-\t-\n"
     ]
    }
   ],
   "source": [
    "print (\"State\\t\", (\"\\t\".join(map(str,varliste))))\n",
    "for i in range(len(q)):\n",
    "    print(i,\"\\t\",\"\\t\".join( str(variable(var,i)) for var in varliste ))"
   ]
  },
  {
   "cell_type": "code",
   "execution_count": null,
   "metadata": {},
   "outputs": [],
   "source": []
  }
 ],
 "metadata": {
  "kernelspec": {
   "display_name": "Python 3",
   "language": "python",
   "name": "python3"
  },
  "language_info": {
   "codemirror_mode": {
    "name": "ipython",
    "version": 3
   },
   "file_extension": ".py",
   "mimetype": "text/x-python",
   "name": "python",
   "nbconvert_exporter": "python",
   "pygments_lexer": "ipython3",
   "version": "3.7.1"
  }
 },
 "nbformat": 4,
 "nbformat_minor": 2
}
