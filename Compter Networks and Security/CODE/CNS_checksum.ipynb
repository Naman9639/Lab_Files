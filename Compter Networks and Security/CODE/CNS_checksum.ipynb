{
 "cells": [
  {
   "cell_type": "code",
   "execution_count": 1,
   "metadata": {},
   "outputs": [],
   "source": [
    "def sum_binary(x1,x2,len_val):\n",
    "    sumv = ''\n",
    "    c ='0'\n",
    "    for i in range(len_val-1,-1,-1):\n",
    "        if x1[i] == x2[i] == c == '1':\n",
    "            sumv = '1' + sumv\n",
    "            c = '1'\n",
    "        elif x1[i] == x2[i] == '1':\n",
    "            sumv = '0' + sumv\n",
    "            c = '1'\n",
    "        elif  x1[i] == x2[i] == c == '0':\n",
    "            sumv = '0' + sumv\n",
    "            c = '0'\n",
    "        elif  x1[i] == x2[i] == '0':\n",
    "            sumv = '1' + sumv\n",
    "            c = '0'\n",
    "        elif (not x1[i] == x2[i]) and c=='1':\n",
    "            sumv = '0' +sumv\n",
    "            c = '1'\n",
    "        elif (not x1[i] == x2[i]) and c=='0':\n",
    "            sumv = '1' +sumv\n",
    "            c = '0'\n",
    "\n",
    "    return sumv"
   ]
  },
  {
   "cell_type": "code",
   "execution_count": 2,
   "metadata": {},
   "outputs": [],
   "source": [
    "def complement(x,len_val):\n",
    "    t=''\n",
    "    for i in range(len_val):\n",
    "        if x[i] == '0':\n",
    "            t+='1'\n",
    "        else:\n",
    "            t+='0'\n",
    "    return t"
   ]
  },
  {
   "cell_type": "code",
   "execution_count": 3,
   "metadata": {},
   "outputs": [],
   "source": [
    "def bit_data(data,d_size):\n",
    "    b_data =[]\n",
    "    for i in range(int(len(data)/d_size)):\n",
    "        b_data.append(data[i*d_size:(i+1)*d_size])\n",
    "    c=''\n",
    "    for i in range(d_size):\n",
    "        c+='0'\n",
    "    return b_data,c"
   ]
  },
  {
   "cell_type": "code",
   "execution_count": 12,
   "metadata": {},
   "outputs": [
    {
     "name": "stdout",
     "output_type": "stream",
     "text": [
      "Enter bit stream :110100101100110101101011001101010101010110110101110101001101100001111000111010110101011010110101\n",
      "Enter Checksum Length :16\n"
     ]
    }
   ],
   "source": [
    "data = str(input(\"Enter bit stream :\"))\n",
    "data_size = int(input(\"Enter Checksum Length :\"))\n",
    "byte_data,checksum = bit_data(data,data_size)"
   ]
  },
  {
   "cell_type": "code",
   "execution_count": 13,
   "metadata": {},
   "outputs": [
    {
     "name": "stdout",
     "output_type": "stream",
     "text": [
      "Data for checksum ['1101001011001101', '0110101100110101', '0101010110110101', '1101010011011000', '0111100011101011', '0101011010110101']\n"
     ]
    }
   ],
   "source": [
    "print('Data for checksum',byte_data)"
   ]
  },
  {
   "cell_type": "code",
   "execution_count": 14,
   "metadata": {},
   "outputs": [],
   "source": [
    "for i in byte_data:\n",
    "    checksum = sum_binary(i,checksum,len(i))\n",
    "checksum = complement(checksum,len(checksum))\n",
    "    "
   ]
  },
  {
   "cell_type": "code",
   "execution_count": 15,
   "metadata": {},
   "outputs": [
    {
     "name": "stdout",
     "output_type": "stream",
     "text": [
      "Checksum for the given data is : 1100011111010000\n"
     ]
    }
   ],
   "source": [
    "print(\"Checksum for the given data is :\",checksum)"
   ]
  },
  {
   "cell_type": "code",
   "execution_count": null,
   "metadata": {},
   "outputs": [],
   "source": []
  },
  {
   "cell_type": "code",
   "execution_count": null,
   "metadata": {},
   "outputs": [],
   "source": [
    "# Input bits '110100101100110101101011001101010101010110110101110101001101100001111000111010110101011010110101'"
   ]
  },
  {
   "cell_type": "code",
   "execution_count": null,
   "metadata": {},
   "outputs": [],
   "source": [
    "byte_data = ['10011001','11100010','00100100','10000100']\n",
    "checksum ='00000000'"
   ]
  }
 ],
 "metadata": {
  "kernelspec": {
   "display_name": "Python 3",
   "language": "python",
   "name": "python3"
  },
  "language_info": {
   "codemirror_mode": {
    "name": "ipython",
    "version": 3
   },
   "file_extension": ".py",
   "mimetype": "text/x-python",
   "name": "python",
   "nbconvert_exporter": "python",
   "pygments_lexer": "ipython3",
   "version": "3.7.1"
  }
 },
 "nbformat": 4,
 "nbformat_minor": 2
}
