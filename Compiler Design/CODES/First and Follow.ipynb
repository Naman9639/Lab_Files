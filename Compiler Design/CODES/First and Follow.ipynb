{
 "cells": [
  {
   "cell_type": "markdown",
   "metadata": {},
   "source": [
    "# Code for First and Follow"
   ]
  },
  {
   "cell_type": "markdown",
   "metadata": {},
   "source": [
    "Grammar\n",
    "E->TW\n",
    "W->TW|e\n",
    "T->FR\n",
    "R->+FR|e\n",
    "F->(E)|d"
   ]
  },
  {
   "cell_type": "code",
   "execution_count": 1,
   "metadata": {},
   "outputs": [
    {
     "name": "stdout",
     "output_type": "stream",
     "text": [
      "Enter number of productions :5\n",
      "Enter production :E->TW\n",
      "Enter production :W->TW|e\n",
      "Enter production :T->FR\n",
      "Enter production :R->+FR|e\n",
      "Enter production :F->(E)|d\n"
     ]
    }
   ],
   "source": [
    "lang = {}\n",
    "gn = []\n",
    "n = int(input(\"Enter number of productions :\"))\n",
    "\n",
    "for j in range(n):\n",
    "    st = str(input(\"Enter production :\"))\n",
    "    u = st.split('->')[0]\n",
    "    gn.append(u)\n",
    "    t = st.split('->')[1]\n",
    "    lis = []\n",
    "    for x in t.split('|'):\n",
    "        lis.append(list(x))\n",
    "    lang[u] = lis\n"
   ]
  },
  {
   "cell_type": "code",
   "execution_count": 2,
   "metadata": {},
   "outputs": [],
   "source": [
    "def First(x):\n",
    "    first = set()\n",
    "    if x in lang.keys():\n",
    "        for i in lang[x]:\n",
    "            if i[0] in gn:\n",
    "                k=0\n",
    "                while(True):\n",
    "                    if k>=len(i):\n",
    "                        break\n",
    "                    f = First(i[k])\n",
    "                    first.update(f)\n",
    "                    k+=1\n",
    "                    if (not 'e' in f):\n",
    "                        break\n",
    "            else:\n",
    "                first.update(i[0])\n",
    "    return first"
   ]
  },
  {
   "cell_type": "code",
   "execution_count": 3,
   "metadata": {},
   "outputs": [],
   "source": [
    "first_list = {}\n",
    "for i in gn:\n",
    "    first_list[i] = First(i)"
   ]
  },
  {
   "cell_type": "code",
   "execution_count": 4,
   "metadata": {},
   "outputs": [
    {
     "name": "stdout",
     "output_type": "stream",
     "text": [
      "\tFirst \n",
      "E \t (, d\n",
      "W \t (, d, e\n",
      "T \t (, d\n",
      "R \t +, e\n",
      "F \t (, d\n"
     ]
    }
   ],
   "source": [
    "print(\"\\tFirst \")\n",
    "for i in first_list.keys():\n",
    "    print(i,\"\\t\", \", \".join(t for t in first_list[i]))"
   ]
  },
  {
   "cell_type": "code",
   "execution_count": 5,
   "metadata": {},
   "outputs": [
    {
     "name": "stdout",
     "output_type": "stream",
     "text": [
      "Initail Follow {'E': {'$'}, 'W': set(), 'T': set(), 'R': set(), 'F': set()}\n"
     ]
    }
   ],
   "source": [
    "follow_list = {}\n",
    "follow_list[gn[0]] = set('$')\n",
    "for i in range(1,len(gn)):\n",
    "    follow_list[gn[i]] = set()\n",
    "print('Initail Follow',follow_list)\n",
    "def Follow(x):\n",
    "    for t in lang.keys():\n",
    "        for k in lang[t]:\n",
    "            if x in k:\n",
    "                ind = k.index(x)\n",
    "                if ind+1 == len(k):\n",
    "                    follow_list[x].update(follow_list[t])\n",
    "                else:\n",
    "                    n=ind+1\n",
    "                    while(True):\n",
    "                        if n>=len(k):\n",
    "                            follow_list[x].update(follow_list[t])\n",
    "                            break\n",
    "                        if k[n] not in gn:\n",
    "                            follow_list[x].update(set(k[n]))\n",
    "                            break\n",
    "                        f = first_list[k[n]].copy()\n",
    "                        if 'e' in f:\n",
    "                            f.remove('e')\n",
    "                            follow_list[x].update(f)\n",
    "                            n+=1\n",
    "                            continue\n",
    "                        break\n"
   ]
  },
  {
   "cell_type": "code",
   "execution_count": 6,
   "metadata": {},
   "outputs": [],
   "source": [
    "for i in gn:\n",
    "    Follow(i)"
   ]
  },
  {
   "cell_type": "code",
   "execution_count": 14,
   "metadata": {},
   "outputs": [
    {
     "name": "stdout",
     "output_type": "stream",
     "text": [
      "\tFirst \t\tFollow\n",
      "E         (, d \t\t ), $\n",
      "W      (, d, e \t\t ), $\n",
      "T         (, d \t\t (, d, ), $\n",
      "R         +, e \t\t ), (, d, $\n",
      "F         (, d \t\t (, +, ), d, $\n"
     ]
    }
   ],
   "source": [
    "print(\"\\tFirst \\t\\tFollow\")\n",
    "line_width = 16\n",
    "for i in gn:\n",
    "    print(i, \", \".join(t for t in first_list[i]).rjust(12),'\\t\\t',\", \".join(t for t in follow_list[i]))"
   ]
  },
  {
   "cell_type": "code",
   "execution_count": null,
   "metadata": {},
   "outputs": [],
   "source": []
  },
  {
   "cell_type": "code",
   "execution_count": null,
   "metadata": {},
   "outputs": [],
   "source": []
  }
 ],
 "metadata": {
  "kernelspec": {
   "display_name": "Python 3",
   "language": "python",
   "name": "python3"
  },
  "language_info": {
   "codemirror_mode": {
    "name": "ipython",
    "version": 3
   },
   "file_extension": ".py",
   "mimetype": "text/x-python",
   "name": "python",
   "nbconvert_exporter": "python",
   "pygments_lexer": "ipython3",
   "version": "3.7.1"
  }
 },
 "nbformat": 4,
 "nbformat_minor": 2
}
