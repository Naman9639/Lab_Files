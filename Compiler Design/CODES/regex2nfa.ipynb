{
 "cells": [
  {
   "cell_type": "code",
   "execution_count": 2,
   "metadata": {},
   "outputs": [
    {
     "name": "stdout",
     "output_type": "stream",
     "text": [
      "Enter the Regex :ab*cd*|abdc\n"
     ]
    }
   ],
   "source": [
    "reg = str(input(\"Enter the Regex :\"))"
   ]
  },
  {
   "cell_type": "code",
   "execution_count": 8,
   "metadata": {},
   "outputs": [
    {
     "name": "stdout",
     "output_type": "stream",
     "text": [
      "['a', 'b', 'c', 'd'] ['a', 'b', 'c', 'd', 'e']\n"
     ]
    }
   ],
   "source": [
    "import string\n",
    "varlist = []\n",
    "var = list(reg)\n",
    "for i in var:\n",
    "    if i not in string.punctuation:\n",
    "        varlist.append(i)\n",
    "varlist = set(varlist)\n",
    "varlist = list(varlist)\n",
    "varlist.sort()\n",
    "varliste = varlist.copy()\n",
    "varliste.append('e')\n",
    "print(varlist,varliste)"
   ]
  },
  {
   "cell_type": "code",
   "execution_count": 9,
   "metadata": {},
   "outputs": [],
   "source": [
    "i = 0\n",
    "j = 0\n",
    "f=[]\n",
    "q=[]\n",
    "base = 0\n",
    "q.append({})\n",
    "while(i<len(reg)):\n",
    "    #only symbol\n",
    "    if reg[i] in varliste :\n",
    "        if len(reg) > i+1:\n",
    "            if (not reg[i+1] == '*'):\n",
    "                q[j][reg[i]] = []\n",
    "                q[j][reg[i]].append(j+1)\n",
    "                j=j+1\n",
    "                if len(q) <= j:\n",
    "                    q.append({})\n",
    "        else:\n",
    "            if len(q) <= j:\n",
    "                q.append({})\n",
    "            q[j][reg[i]] = []\n",
    "            q[j][reg[i]].append(j+1)\n",
    "            j=j+1\n",
    "            if len(q) <= j:\n",
    "                q.append({})\n",
    "    #for | operator\n",
    "    if len(reg) > i+1 :\n",
    "        if reg[i] == '|' and reg[i+1] in varlist:\n",
    "            \n",
    "            f.append(j)\n",
    "            \n",
    "            if len(q) <= j:\n",
    "                q.append({})\n",
    "            \n",
    "            if 'e' in q[base]:\n",
    "                q[base]['e'].append(j+1)\n",
    "            else:\n",
    "                q[base]['e'] = []\n",
    "                q[base]['e'].append(j+1)\n",
    "            j+=1\n",
    "            \n",
    "            if len(q) <= j:\n",
    "                q.append({})\n",
    "            \n",
    "    #For * operator\n",
    "    if len(reg) > i+1 : \n",
    "        if reg[i] in varlist and reg[i+1] == '*':\n",
    "            \n",
    "            if reg[i] in q[j]:\n",
    "                q[j][reg[i]].append(j+1)\n",
    "            else:\n",
    "                q[j][reg[i]] = []\n",
    "                q[j][reg[i]].append(j+1)\n",
    "            \n",
    "            if 'e' in q[j]:\n",
    "                q[j]['e'].append(j+1)\n",
    "            else:\n",
    "                q[j]['e'] = []\n",
    "                q[j]['e'].append(j+1)\n",
    "            \n",
    "            \n",
    "            \n",
    "            j = j+1\n",
    "            if len(q) <= j:\n",
    "                q.append({})\n",
    "            if 'e' in q[j]:\n",
    "                q[j]['e'].append(j-1)\n",
    "            else:\n",
    "                q[j]['e'] = []\n",
    "                q[j]['e'].append(j-1)\n",
    "            \n",
    "            i+=1\n",
    "            \n",
    "    i+=1\n",
    "    \n",
    "if 'e' in q[j]:\n",
    "    q[j]['e'].append(j+1)\n",
    "else:\n",
    "    q[j]['e'] = []\n",
    "    q[j]['e'].append(j+1)\n",
    "q.append({})\n",
    "j+=1\n",
    "for i in f:\n",
    "    if 'e' in q[i]:\n",
    "        q[i]['e'].append(j-1)\n",
    "    else:\n",
    "        q[i]['e'] = []\n",
    "        q[i]['e'].append(j-1)"
   ]
  },
  {
   "cell_type": "code",
   "execution_count": 10,
   "metadata": {},
   "outputs": [
    {
     "name": "stdout",
     "output_type": "stream",
     "text": [
      "[{'a': [1], 'e': [5]}, {'b': [2], 'e': [2]}, {'e': [1], 'c': [3]}, {'d': [4], 'e': [4]}, {'e': [3, 9]}, {'a': [6]}, {'b': [7]}, {'d': [8]}, {'c': [9]}, {'e': [10]}, {}]\n"
     ]
    }
   ],
   "source": [
    "print(q)"
   ]
  },
  {
   "cell_type": "code",
   "execution_count": 11,
   "metadata": {},
   "outputs": [],
   "source": [
    "def variable(x,k):\n",
    "    if x in q[k].keys():\n",
    "        return q[k][x]\n",
    "    else:\n",
    "        return \"-\""
   ]
  },
  {
   "cell_type": "code",
   "execution_count": 12,
   "metadata": {},
   "outputs": [
    {
     "name": "stdout",
     "output_type": "stream",
     "text": [
      "State\t a\tb\tc\td\te\n",
      "0 \t [1]\t-\t-\t-\t[5]\n",
      "1 \t -\t[2]\t-\t-\t[2]\n",
      "2 \t -\t-\t[3]\t-\t[1]\n",
      "3 \t -\t-\t-\t[4]\t[4]\n",
      "4 \t -\t-\t-\t-\t[3, 9]\n",
      "5 \t [6]\t-\t-\t-\t-\n",
      "6 \t -\t[7]\t-\t-\t-\n",
      "7 \t -\t-\t-\t[8]\t-\n",
      "8 \t -\t-\t[9]\t-\t-\n",
      "9 \t -\t-\t-\t-\t[10]\n",
      "10 \t -\t-\t-\t-\t-\n"
     ]
    }
   ],
   "source": [
    "print (\"State\\t\", (\"\\t\".join(map(str,varliste))))\n",
    "for i in range(len(q)):\n",
    "    print(i,\"\\t\",\"\\t\".join( str(variable(var,i)) for var in varliste ))"
   ]
  },
  {
   "cell_type": "code",
   "execution_count": null,
   "metadata": {},
   "outputs": [],
   "source": []
  }
 ],
 "metadata": {
  "kernelspec": {
   "display_name": "Python 3",
   "language": "python",
   "name": "python3"
  },
  "language_info": {
   "codemirror_mode": {
    "name": "ipython",
    "version": 3
   },
   "file_extension": ".py",
   "mimetype": "text/x-python",
   "name": "python",
   "nbconvert_exporter": "python",
   "pygments_lexer": "ipython3",
   "version": "3.7.1"
  }
 },
 "nbformat": 4,
 "nbformat_minor": 2
}
