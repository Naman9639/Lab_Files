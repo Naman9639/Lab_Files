{
 "cells": [
  {
   "cell_type": "markdown",
   "metadata": {},
   "source": [
    "## String Evaluation"
   ]
  },
  {
   "cell_type": "code",
   "execution_count": 3,
   "metadata": {},
   "outputs": [
    {
     "name": "stdout",
     "output_type": "stream",
     "text": [
      "Enter the string :Hello@World12\n",
      "Uppercase characters : 2\n",
      "Lowercase characters : 8\n",
      "Special characters : 3\n",
      "Digits : 2\n"
     ]
    }
   ],
   "source": [
    "string = str(input(\"Enter the string :\"))\n",
    "u=0\n",
    "l=0\n",
    "s=0\n",
    "d=0\n",
    "for i in string:\n",
    "    if i.isupper():\n",
    "        u+=1\n",
    "    if i.islower():\n",
    "        l+=1\n",
    "    if i.isdigit():\n",
    "        d+=1\n",
    "    if  not i.isalpha():\n",
    "        s+=1\n",
    "print(\"Uppercase characters :\",u)\n",
    "print(\"Lowercase characters :\",l)\n",
    "print(\"Special characters :\",s)\n",
    "print(\"Digits :\",d)"
   ]
  },
  {
   "cell_type": "markdown",
   "metadata": {},
   "source": [
    "## Email Verification"
   ]
  },
  {
   "cell_type": "code",
   "execution_count": 27,
   "metadata": {},
   "outputs": [
    {
     "name": "stdout",
     "output_type": "stream",
     "text": [
      "Enter Email :shivank@gmail.co.in\n",
      "Email is Valid\n"
     ]
    }
   ],
   "source": [
    "import re\n",
    "def Validemail(email):\n",
    "        if len(email) < 5:\n",
    "            return False\n",
    "        else:\n",
    "            if re.match(r'^[a-zA-Z0-9]+([a-zA-Z0-9\\.\\_]*)+@[gmail|hotmail|protonmail|yahoo|]+[\\.com|co.in]' ,email):\n",
    "                return True\n",
    "            else :\n",
    "                return False\n",
    "s=str(input(\"Enter Email :\"))\n",
    "if Validemail(s):\n",
    "    print(\"Email is Valid\")\n",
    "else:\n",
    "    print(\"Email is invalid\")"
   ]
  },
  {
   "cell_type": "code",
   "execution_count": 26,
   "metadata": {},
   "outputs": [
    {
     "name": "stdout",
     "output_type": "stream",
     "text": [
      "Enter Email :_shivank@gmail.com\n",
      "Email is invalid\n"
     ]
    }
   ],
   "source": [
    "s=str(input(\"Enter Email :\"))\n",
    "if Validemail(s):\n",
    "    print(\"Email is Valid\")\n",
    "else:\n",
    "    print(\"Email is invalid\")"
   ]
  },
  {
   "cell_type": "code",
   "execution_count": null,
   "metadata": {},
   "outputs": [],
   "source": []
  }
 ],
 "metadata": {
  "kernelspec": {
   "display_name": "Python 3",
   "language": "python",
   "name": "python3"
  },
  "language_info": {
   "codemirror_mode": {
    "name": "ipython",
    "version": 3
   },
   "file_extension": ".py",
   "mimetype": "text/x-python",
   "name": "python",
   "nbconvert_exporter": "python",
   "pygments_lexer": "ipython3",
   "version": "3.7.1"
  }
 },
 "nbformat": 4,
 "nbformat_minor": 2
}
